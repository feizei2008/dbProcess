{
 "cells": [
  {
   "cell_type": "code",
   "execution_count": 1,
   "metadata": {
    "collapsed": false
   },
   "outputs": [
    {
     "data": {
      "text/html": [
       "<div>\n",
       "<style scoped>\n",
       "    .dataframe tbody tr th:only-of-type {\n",
       "        vertical-align: middle;\n",
       "    }\n",
       "\n",
       "    .dataframe tbody tr th {\n",
       "        vertical-align: top;\n",
       "    }\n",
       "\n",
       "    .dataframe thead th {\n",
       "        text-align: right;\n",
       "    }\n",
       "</style>\n",
       "<table border=\"1\" class=\"dataframe\">\n",
       "  <thead>\n",
       "    <tr style=\"text-align: right;\">\n",
       "      <th></th>\n",
       "      <th>0</th>\n",
       "    </tr>\n",
       "  </thead>\n",
       "  <tbody>\n",
       "    <tr>\n",
       "      <th>0</th>\n",
       "      <td>1</td>\n",
       "    </tr>\n",
       "    <tr>\n",
       "      <th>1</th>\n",
       "      <td>2</td>\n",
       "    </tr>\n",
       "    <tr>\n",
       "      <th>2</th>\n",
       "      <td>3</td>\n",
       "    </tr>\n",
       "  </tbody>\n",
       "</table>\n",
       "</div>"
      ],
      "text/plain": [
       "   0\n",
       "0  1\n",
       "1  2\n",
       "2  3"
      ]
     },
     "execution_count": 1,
     "metadata": {},
     "output_type": "execute_result"
    }
   ],
   "source": [
    "import pandas as pd\n",
    "pd.DataFrame([1,2,3])"
   ]
  },
  {
   "cell_type": "code",
   "execution_count": 7,
   "metadata": {
    "collapsed": false
   },
   "outputs": [
    {
     "data": {
      "text/plain": [
       "datetime.datetime(2018, 9, 24, 21, 0)"
      ]
     },
     "execution_count": 7,
     "metadata": {},
     "output_type": "execute_result"
    }
   ],
   "source": [
    "import datetime\n",
    "timePoint = datetime.datetime.today() - datetime.timedelta(days=1)\n",
    "timePoint = timePoint.replace(hour=21, minute=00, second=00, microsecond=0)\n",
    "timePoint"
   ]
  },
  {
   "cell_type": "code",
   "execution_count": 14,
   "metadata": {
    "collapsed": false
   },
   "outputs": [
    {
     "name": "stdout",
     "output_type": "stream",
     "text": [
      "{u'bidVolume5': 0, u'bidVolume4': 0, u'bidVolume3': 0, u'bidVolume2': 0, u'openPrice': 4158.0, u'datetime': datetime.datetime(2018, 9, 6, 21, 15, 44), u'askVolume1': 1543, u'askVolume3': 0, u'askVolume2': 0, u'askVolume5': 0, u'rawData': None, u'lastPrice': 4184.0, u'highPrice': 4190.0, u'openInterest': 2782988.0, u'preClosePrice': 4148.0, u'lowPrice': 4158.0, u'upperLimit': 4411.0, u'gatewayName': u'CTP', u'lowerLimit': 3834.0, u'exchange': u'SHFE', u'symbol': u'rb1901', u'volume': 676438, u'bidVolume1': 192, u'date': u'20180906', u'lastVolume': 0, u'askPrice4': 0.0, u'bidPrice5': 0.0, u'bidPrice4': 0.0, u'bidPrice1': 4184.0, u'bidPrice3': 0.0, u'bidPrice2': 0.0, u'vtSymbol': u'rb1901', u'time': u'21:15:44.0', u'askPrice5': 0.0, u'_id': ObjectId('5b912880659aa055848c5374'), u'askPrice3': 0.0, u'askPrice2': 0.0, u'askPrice1': 4185.0, u'askVolume4': 0}\n",
      "{u'bidVolume5': 0, u'bidVolume4': 0, u'bidVolume3': 0, u'bidVolume2': 0, u'openPrice': 4158.0, u'datetime': datetime.datetime(2018, 9, 6, 21, 15, 45), u'askVolume1': 1558, u'askVolume3': 0, u'askVolume2': 0, u'askVolume5': 0, u'rawData': None, u'lastPrice': 4184.0, u'highPrice': 4190.0, u'openInterest': 2783026.0, u'preClosePrice': 4148.0, u'lowPrice': 4158.0, u'upperLimit': 4411.0, u'gatewayName': u'CTP', u'lowerLimit': 3834.0, u'exchange': u'SHFE', u'symbol': u'rb1901', u'volume': 676518, u'bidVolume1': 160, u'date': u'20180906', u'lastVolume': 0, u'askPrice4': 0.0, u'bidPrice5': 0.0, u'bidPrice4': 0.0, u'bidPrice1': 4184.0, u'bidPrice3': 0.0, u'bidPrice2': 0.0, u'vtSymbol': u'rb1901', u'time': u'21:15:45.0', u'askPrice5': 0.0, u'_id': ObjectId('5b912881659aa055848c5378'), u'askPrice3': 0.0, u'askPrice2': 0.0, u'askPrice1': 4185.0, u'askVolume4': 0}\n",
      "{u'bidVolume5': 0, u'bidVolume4': 0, u'bidVolume3': 0, u'bidVolume2': 0, u'openPrice': 4158.0, u'datetime': datetime.datetime(2018, 9, 6, 21, 15, 45, 500000), u'askVolume1': 1540, u'askVolume3': 0, u'askVolume2': 0, u'askVolume5': 0, u'rawData': None, u'lastPrice': 4185.0, u'highPrice': 4190.0, u'openInterest': 2783024.0, u'preClosePrice': 4148.0, u'lowPrice': 4158.0, u'upperLimit': 4411.0, u'gatewayName': u'CTP', u'lowerLimit': 3834.0, u'exchange': u'SHFE', u'symbol': u'rb1901', u'volume': 676776, u'bidVolume1': 44, u'date': u'20180906', u'lastVolume': 0, u'askPrice4': 0.0, u'bidPrice5': 0.0, u'bidPrice4': 0.0, u'bidPrice1': 4184.0, u'bidPrice3': 0.0, u'bidPrice2': 0.0, u'vtSymbol': u'rb1901', u'time': u'21:15:45.5', u'askPrice5': 0.0, u'_id': ObjectId('5b912882659aa055848c537a'), u'askPrice3': 0.0, u'askPrice2': 0.0, u'askPrice1': 4185.0, u'askVolume4': 0}\n",
      "{u'bidVolume5': 0, u'bidVolume4': 0, u'bidVolume3': 0, u'bidVolume2': 0, u'openPrice': 4158.0, u'datetime': datetime.datetime(2018, 9, 6, 21, 15, 46), u'askVolume1': 1535, u'askVolume3': 0, u'askVolume2': 0, u'askVolume5': 0, u'rawData': None, u'lastPrice': 4184.0, u'highPrice': 4190.0, u'openInterest': 2783026.0, u'preClosePrice': 4148.0, u'lowPrice': 4158.0, u'upperLimit': 4411.0, u'gatewayName': u'CTP', u'lowerLimit': 3834.0, u'exchange': u'SHFE', u'symbol': u'rb1901', u'volume': 676926, u'bidVolume1': 75, u'date': u'20180906', u'lastVolume': 0, u'askPrice4': 0.0, u'bidPrice5': 0.0, u'bidPrice4': 0.0, u'bidPrice1': 4184.0, u'bidPrice3': 0.0, u'bidPrice2': 0.0, u'vtSymbol': u'rb1901', u'time': u'21:15:46.0', u'askPrice5': 0.0, u'_id': ObjectId('5b912882659aa055848c537e'), u'askPrice3': 0.0, u'askPrice2': 0.0, u'askPrice1': 4185.0, u'askVolume4': 0}\n",
      "{u'bidVolume5': 0, u'bidVolume4': 0, u'bidVolume3': 0, u'bidVolume2': 0, u'openPrice': 4158.0, u'datetime': datetime.datetime(2018, 9, 6, 21, 15, 46, 500000), u'askVolume1': 48, u'askVolume3': 0, u'askVolume2': 0, u'askVolume5': 0, u'rawData': None, u'lastPrice': 4184.0, u'highPrice': 4190.0, u'openInterest': 2783026.0, u'preClosePrice': 4148.0, u'lowPrice': 4158.0, u'upperLimit': 4411.0, u'gatewayName': u'CTP', u'lowerLimit': 3834.0, u'exchange': u'SHFE', u'symbol': u'rb1901', u'volume': 677142, u'bidVolume1': 351, u'date': u'20180906', u'lastVolume': 0, u'askPrice4': 0.0, u'bidPrice5': 0.0, u'bidPrice4': 0.0, u'bidPrice1': 4183.0, u'bidPrice3': 0.0, u'bidPrice2': 0.0, u'vtSymbol': u'rb1901', u'time': u'21:15:46.5', u'askPrice5': 0.0, u'_id': ObjectId('5b912883659aa055848c5380'), u'askPrice3': 0.0, u'askPrice2': 0.0, u'askPrice1': 4184.0, u'askVolume4': 0}\n"
     ]
    }
   ],
   "source": [
    "from pymongo import MongoClient\n",
    "client = MongoClient(\"localhost\",27017)\n",
    "db = client[\"VnTrader_Tick_Db\"]\n",
    "items = db[\"rb1901\"].find().limit(5)\n",
    "for i in items:\n",
    "    print i"
   ]
  },
  {
   "cell_type": "code",
   "execution_count": 30,
   "metadata": {
    "collapsed": false
   },
   "outputs": [
    {
     "data": {
      "text/plain": [
       "[{u'askPrice1': 4185.0,\n",
       "  u'askPrice2': 0.0,\n",
       "  u'askPrice3': 0.0,\n",
       "  u'askPrice4': 0.0,\n",
       "  u'askPrice5': 0.0,\n",
       "  u'askVolume1': 1558,\n",
       "  u'askVolume2': 0,\n",
       "  u'askVolume3': 0,\n",
       "  u'askVolume4': 0,\n",
       "  u'askVolume5': 0,\n",
       "  u'bidPrice1': 4184.0,\n",
       "  u'bidPrice2': 0.0,\n",
       "  u'bidPrice3': 0.0,\n",
       "  u'bidPrice4': 0.0,\n",
       "  u'bidPrice5': 0.0,\n",
       "  u'bidVolume1': 160,\n",
       "  u'bidVolume2': 0,\n",
       "  u'bidVolume3': 0,\n",
       "  u'bidVolume4': 0,\n",
       "  u'bidVolume5': 0,\n",
       "  u'date': u'20180906',\n",
       "  u'datetime': u'2018-09-06T21:15:45.000Z',\n",
       "  u'exchange': u'SHFE',\n",
       "  u'gatewayName': u'CTP',\n",
       "  u'highPrice': 4190.0,\n",
       "  u'lastPrice': 4184.0,\n",
       "  u'lastVolume': 0,\n",
       "  u'lowPrice': 4158.0,\n",
       "  u'lowerLimit': 3834.0,\n",
       "  u'openInterest': 2783026.0,\n",
       "  u'openPrice': 4158.0,\n",
       "  u'preClosePrice': 4148.0,\n",
       "  u'rawData': None,\n",
       "  u'symbol': u'rb1901',\n",
       "  u'time': u'21:15:45.0',\n",
       "  u'upperLimit': 4411.0,\n",
       "  u'volume': 676518,\n",
       "  u'vtSymbol': u'rb1901'},\n",
       " {u'askPrice1': 4185.0,\n",
       "  u'askPrice2': 0.0,\n",
       "  u'askPrice3': 0.0,\n",
       "  u'askPrice4': 0.0,\n",
       "  u'askPrice5': 0.0,\n",
       "  u'askVolume1': 1543,\n",
       "  u'askVolume2': 0,\n",
       "  u'askVolume3': 0,\n",
       "  u'askVolume4': 0,\n",
       "  u'askVolume5': 0,\n",
       "  u'bidPrice1': 4184.0,\n",
       "  u'bidPrice2': 0.0,\n",
       "  u'bidPrice3': 0.0,\n",
       "  u'bidPrice4': 0.0,\n",
       "  u'bidPrice5': 0.0,\n",
       "  u'bidVolume1': 192,\n",
       "  u'bidVolume2': 0,\n",
       "  u'bidVolume3': 0,\n",
       "  u'bidVolume4': 0,\n",
       "  u'bidVolume5': 0,\n",
       "  u'date': u'20180906',\n",
       "  u'datetime': u'2018-09-06T21:15:44.000Z',\n",
       "  u'exchange': u'SHFE',\n",
       "  u'gatewayName': u'CTP',\n",
       "  u'highPrice': 4190.0,\n",
       "  u'lastPrice': 4184.0,\n",
       "  u'lastVolume': 0,\n",
       "  u'lowPrice': 4158.0,\n",
       "  u'lowerLimit': 3834.0,\n",
       "  u'openInterest': 2782988.0,\n",
       "  u'openPrice': 4158.0,\n",
       "  u'preClosePrice': 4148.0,\n",
       "  u'rawData': None,\n",
       "  u'symbol': u'rb1901',\n",
       "  u'time': u'21:15:44.0',\n",
       "  u'upperLimit': 4411.0,\n",
       "  u'volume': 676438,\n",
       "  u'vtSymbol': u'rb1901'},\n",
       " {u'askPrice1': 4185.0,\n",
       "  u'askPrice2': 0.0,\n",
       "  u'askPrice3': 0.0,\n",
       "  u'askPrice4': 0.0,\n",
       "  u'askPrice5': 0.0,\n",
       "  u'askVolume1': 1535,\n",
       "  u'askVolume2': 0,\n",
       "  u'askVolume3': 0,\n",
       "  u'askVolume4': 0,\n",
       "  u'askVolume5': 0,\n",
       "  u'bidPrice1': 4184.0,\n",
       "  u'bidPrice2': 0.0,\n",
       "  u'bidPrice3': 0.0,\n",
       "  u'bidPrice4': 0.0,\n",
       "  u'bidPrice5': 0.0,\n",
       "  u'bidVolume1': 75,\n",
       "  u'bidVolume2': 0,\n",
       "  u'bidVolume3': 0,\n",
       "  u'bidVolume4': 0,\n",
       "  u'bidVolume5': 0,\n",
       "  u'date': u'20180906',\n",
       "  u'datetime': u'2018-09-06T21:15:46.000Z',\n",
       "  u'exchange': u'SHFE',\n",
       "  u'gatewayName': u'CTP',\n",
       "  u'highPrice': 4190.0,\n",
       "  u'lastPrice': 4184.0,\n",
       "  u'lastVolume': 0,\n",
       "  u'lowPrice': 4158.0,\n",
       "  u'lowerLimit': 3834.0,\n",
       "  u'openInterest': 2783026.0,\n",
       "  u'openPrice': 4158.0,\n",
       "  u'preClosePrice': 4148.0,\n",
       "  u'rawData': None,\n",
       "  u'symbol': u'rb1901',\n",
       "  u'time': u'21:15:46.0',\n",
       "  u'upperLimit': 4411.0,\n",
       "  u'volume': 676926,\n",
       "  u'vtSymbol': u'rb1901'},\n",
       " {u'askPrice1': 4185.0,\n",
       "  u'askPrice2': 0.0,\n",
       "  u'askPrice3': 0.0,\n",
       "  u'askPrice4': 0.0,\n",
       "  u'askPrice5': 0.0,\n",
       "  u'askVolume1': 1540,\n",
       "  u'askVolume2': 0,\n",
       "  u'askVolume3': 0,\n",
       "  u'askVolume4': 0,\n",
       "  u'askVolume5': 0,\n",
       "  u'bidPrice1': 4184.0,\n",
       "  u'bidPrice2': 0.0,\n",
       "  u'bidPrice3': 0.0,\n",
       "  u'bidPrice4': 0.0,\n",
       "  u'bidPrice5': 0.0,\n",
       "  u'bidVolume1': 44,\n",
       "  u'bidVolume2': 0,\n",
       "  u'bidVolume3': 0,\n",
       "  u'bidVolume4': 0,\n",
       "  u'bidVolume5': 0,\n",
       "  u'date': u'20180906',\n",
       "  u'datetime': u'2018-09-06T21:15:45.500Z',\n",
       "  u'exchange': u'SHFE',\n",
       "  u'gatewayName': u'CTP',\n",
       "  u'highPrice': 4190.0,\n",
       "  u'lastPrice': 4185.0,\n",
       "  u'lastVolume': 0,\n",
       "  u'lowPrice': 4158.0,\n",
       "  u'lowerLimit': 3834.0,\n",
       "  u'openInterest': 2783024.0,\n",
       "  u'openPrice': 4158.0,\n",
       "  u'preClosePrice': 4148.0,\n",
       "  u'rawData': None,\n",
       "  u'symbol': u'rb1901',\n",
       "  u'time': u'21:15:45.5',\n",
       "  u'upperLimit': 4411.0,\n",
       "  u'volume': 676776,\n",
       "  u'vtSymbol': u'rb1901'},\n",
       " {u'askPrice1': 4184.0,\n",
       "  u'askPrice2': 0.0,\n",
       "  u'askPrice3': 0.0,\n",
       "  u'askPrice4': 0.0,\n",
       "  u'askPrice5': 0.0,\n",
       "  u'askVolume1': 48,\n",
       "  u'askVolume2': 0,\n",
       "  u'askVolume3': 0,\n",
       "  u'askVolume4': 0,\n",
       "  u'askVolume5': 0,\n",
       "  u'bidPrice1': 4183.0,\n",
       "  u'bidPrice2': 0.0,\n",
       "  u'bidPrice3': 0.0,\n",
       "  u'bidPrice4': 0.0,\n",
       "  u'bidPrice5': 0.0,\n",
       "  u'bidVolume1': 351,\n",
       "  u'bidVolume2': 0,\n",
       "  u'bidVolume3': 0,\n",
       "  u'bidVolume4': 0,\n",
       "  u'bidVolume5': 0,\n",
       "  u'date': u'20180906',\n",
       "  u'datetime': u'2018-09-06T21:15:46.500Z',\n",
       "  u'exchange': u'SHFE',\n",
       "  u'gatewayName': u'CTP',\n",
       "  u'highPrice': 4190.0,\n",
       "  u'lastPrice': 4184.0,\n",
       "  u'lastVolume': 0,\n",
       "  u'lowPrice': 4158.0,\n",
       "  u'lowerLimit': 3834.0,\n",
       "  u'openInterest': 2783026.0,\n",
       "  u'openPrice': 4158.0,\n",
       "  u'preClosePrice': 4148.0,\n",
       "  u'rawData': None,\n",
       "  u'symbol': u'rb1901',\n",
       "  u'time': u'21:15:46.5',\n",
       "  u'upperLimit': 4411.0,\n",
       "  u'volume': 677142,\n",
       "  u'vtSymbol': u'rb1901'}]"
      ]
     },
     "execution_count": 30,
     "metadata": {},
     "output_type": "execute_result"
    }
   ],
   "source": [
    "import json\n",
    "def get_db(host,port,dbName):\n",
    "    client = MongoClient(host,port)\n",
    "    db = client[dbName]\n",
    "    return db\n",
    "\n",
    "def get_specificItems(db, coll_name):\n",
    "    Items = db[coll_name].find().limit(5) \n",
    "    return Items\n",
    "\n",
    "db = get_db(\"localhost\", 27017, 'VnTrader_Tick_Db')\n",
    "df = pd.DataFrame(list(get_specificItems(db, 'rb1901')))\n",
    "del df[\"_id\"]\n",
    "df\n",
    "df.dropna(axis=0, how='all')\n",
    "data = json.loads(df.T.to_json(date_format = 'iso')).values()\n",
    "data"
   ]
  },
  {
   "cell_type": "code",
   "execution_count": 7,
   "metadata": {
    "collapsed": false
   },
   "outputs": [
    {
     "ename": "SyntaxError",
     "evalue": "'return' outside function (<ipython-input-7-55db32129cea>, line 7)",
     "output_type": "error",
     "traceback": [
      "\u001b[1;36m  File \u001b[1;32m\"<ipython-input-7-55db32129cea>\"\u001b[1;36m, line \u001b[1;32m7\u001b[0m\n\u001b[1;33m    return i.split('||')[1]\u001b[0m\n\u001b[1;31mSyntaxError\u001b[0m\u001b[1;31m:\u001b[0m 'return' outside function\n"
     ]
    }
   ],
   "source": [
    "rb_period = \"2010-01-01||8:59 - 10:15, 10:30 - 11:30, 13:30 - 15:00%2014-12-26||9:00 - 10:15, 10:30 - 11:30, 13:30 - 15:00, 20:59 - 00:00, 00:00 - 01:00\"\n",
    "phase = [i for i in rb_period.split('%')]  \n",
    "phase.sort(reverse=True)\n",
    "for i in phase:\n",
    "    startDate = datetime.datetime.strptime(i.split('||')[0], \"%Y-%m-%d\")\n",
    "    if startDate <= timePoint:\n",
    "        return i.split('||')[1]\n",
    "    else:\n",
    "        continue\n",
    "        "
   ]
  },
  {
   "cell_type": "code",
   "execution_count": 95,
   "metadata": {
    "collapsed": false
   },
   "outputs": [
    {
     "name": "stdout",
     "output_type": "stream",
     "text": [
      "[u'm1901', u'rb1901', u'SR.HOT', u'p1901', u'SR901', u'm.HOT', u'rb.HOT', u'l1901', u'l.HOT', u'p.HOT']\n",
      "903536\n",
      "cur type is <class 'pymongo.cursor.Cursor'>\n",
      "cur[0] type is <type 'dict'>\n",
      "cur[0:3] type is <class 'pymongo.cursor.Cursor'>\n"
     ]
    },
    {
     "ename": "TypeError",
     "evalue": "'list' object is not callable",
     "output_type": "error",
     "traceback": [
      "\u001b[1;31m---------------------------------------------------------------------------\u001b[0m",
      "\u001b[1;31mTypeError\u001b[0m                                 Traceback (most recent call last)",
      "\u001b[1;32m<ipython-input-95-1a152bfef784>\u001b[0m in \u001b[0;36m<module>\u001b[1;34m()\u001b[0m\n\u001b[0;32m     48\u001b[0m \u001b[1;32mprint\u001b[0m \u001b[1;34m\"cur[0] type is %s\"\u001b[0m  \u001b[1;33m%\u001b[0m \u001b[0mstr\u001b[0m\u001b[1;33m(\u001b[0m\u001b[0mtype\u001b[0m\u001b[1;33m(\u001b[0m\u001b[0mcur\u001b[0m\u001b[1;33m[\u001b[0m\u001b[1;36m0\u001b[0m\u001b[1;33m]\u001b[0m\u001b[1;33m)\u001b[0m\u001b[1;33m)\u001b[0m\u001b[1;33m\u001b[0m\u001b[0m\n\u001b[0;32m     49\u001b[0m \u001b[1;32mprint\u001b[0m \u001b[1;34m\"cur[0:3] type is %s\"\u001b[0m  \u001b[1;33m%\u001b[0m \u001b[0mstr\u001b[0m\u001b[1;33m(\u001b[0m\u001b[0mtype\u001b[0m\u001b[1;33m(\u001b[0m\u001b[0mcur\u001b[0m\u001b[1;33m[\u001b[0m\u001b[1;36m0\u001b[0m\u001b[1;33m:\u001b[0m\u001b[1;36m3\u001b[0m\u001b[1;33m]\u001b[0m\u001b[1;33m)\u001b[0m\u001b[1;33m)\u001b[0m\u001b[1;33m\u001b[0m\u001b[0m\n\u001b[1;32m---> 50\u001b[1;33m \u001b[1;32mprint\u001b[0m \u001b[0mlist\u001b[0m\u001b[1;33m(\u001b[0m\u001b[0mcur\u001b[0m\u001b[1;33m)\u001b[0m\u001b[1;33m\u001b[0m\u001b[0m\n\u001b[0m\u001b[0;32m     51\u001b[0m \u001b[1;31m# for i in cur[0:5]:\u001b[0m\u001b[1;33m\u001b[0m\u001b[1;33m\u001b[0m\u001b[0m\n\u001b[0;32m     52\u001b[0m \u001b[1;31m#     print i\u001b[0m\u001b[1;33m\u001b[0m\u001b[1;33m\u001b[0m\u001b[0m\n",
      "\u001b[1;31mTypeError\u001b[0m: 'list' object is not callable"
     ]
    }
   ],
   "source": [
    "from pymongo import MongoClient\n",
    "import datetime\n",
    "import pandas as pd\n",
    "\n",
    "def get_db(host,port,dbName):\n",
    "    # 建立连接，似乎同一个主机上port只能唯一\n",
    "    client = MongoClient(host,port)\n",
    "    db = client[dbName]\n",
    "    return db\n",
    "\n",
    "def get_all_colls(db):\n",
    "    return [i for i in db.collection_names()]\n",
    "\n",
    "def get_specificItems(db, coll_name, time):\n",
    "    Items = db[coll_name].find({\"datetime\": {'$gte': time}},allow_partial_results=False) # 注：原始db的datetime为ISO格式需要转换才能比较\n",
    "    return Items\n",
    "\n",
    "timePoint = datetime.datetime.today() - datetime.timedelta(days=46)\n",
    "timePoint = timePoint.replace(hour=21, minute=00, second=00, microsecond=0)\n",
    "\n",
    "db = get_db(\"localhost\", 27017, 'VnTrader_Tick_Db')\n",
    "names = get_all_colls(db)\n",
    "print names\n",
    "\n",
    "def get_allItems(db, coll_name):\n",
    "    Items = db[coll_name].find({}) # 注：原始db的datetime为ISO格式需要转换才能比较\n",
    "    return Items\n",
    "\n",
    "def get_oneItem(db, coll_name):\n",
    "    Items = db[coll_name].find({}).limit(1) # 注：原始db的datetime为ISO格式需要转换才能比较\n",
    "    return Items\n",
    "\n",
    "# one = get_oneItem(db, 'rb1901')\n",
    "cur = get_allItems(db, 'rb1901')\n",
    "# col = pd.DataFrame(list(one)).columns\n",
    "# print col                   \n",
    "# df = pd.DataFrame(columns = col)  \n",
    "# for i in cur:\n",
    "#     pd_data=pd.DataFrame.from_dict(i,orient='index').T   \n",
    "#     #插入df,忽略索引\n",
    "#     df=df.append(pd_data, ignore_index=True)  \n",
    "# print df.tail(3)\n",
    "# print get_specificItems(db, names[1], timePoint).count()\n",
    "# df = pd.DataFrame(list(get_specificItems(db, names[1], timePoint)))\n",
    "# print df.head(3)\n",
    "print cur.count()\n",
    "print \"cur type is %s\"  % str(type(cur))\n",
    "print \"cur[0] type is %s\"  % str(type(cur[0]))\n",
    "print \"cur[0:3] type is %s\"  % str(type(cur[0:3]))\n",
    "print list(cur)\n",
    "# for i in cur[0:5]:\n",
    "#     print i\n",
    "ls = []\n",
    "# def yd():\n",
    "#     for i in cur:\n",
    "#         yield i\n",
    "        \n",
    "# for i in yd():\n",
    "#     ls.append(i)\n",
    "# print ls[2]\n",
    "# for i in xrange(8):\n",
    "#     ls.append(i)\n",
    "#     i+=1\n",
    "# print ls[-1]\n",
    "\n",
    "def read_file(fpath): \n",
    "    BLOCK_SIZE = 1024 \n",
    "    with open(fpath, 'rb') as f: \n",
    "        while True: \n",
    "            block = f.read(BLOCK_SIZE) \n",
    "            if block: \n",
    "                yield block \n",
    "            else: \n",
    "                return\n",
    "\n",
    "def load_mongodb(items):\n",
    "    BLOCK_SIZE = 1024\n",
    "    with items as f:\n",
    "        while True:\n",
    "            block = list(f)"
   ]
  },
  {
   "cell_type": "code",
   "execution_count": 76,
   "metadata": {
    "collapsed": false
   },
   "outputs": [],
   "source": [
    "import pandas as pd\n",
    "dfInfo = pd.read_csv('E:\\\\Github\\\\dbProcess\\\\BasicInformation.csv')\n",
    "dfInfo.index = dfInfo['Symbol'].tolist()\n",
    "del dfInfo['Symbol']\n",
    "dfInfo.loc[['rb'],['TradingPeriod']]\n",
    "#phase = [i for i in dfInfo[\"TradingPeriod\"].tolist().split('%')]\n",
    "#dfInfo[\"TradingPeriod\"].str.split('%')\n",
    "temp = dfInfo.iloc[23,1].split('%')\n",
    "temp1 = [i.split(\"||\") for i in temp]\n",
    "temp2 = [float(i[0].replace(\"-\",\"\")) for i in temp1]\n",
    "tar = 20120101\n",
    "dfInfo['dd']=999\n",
    "# temp1\n",
    "# format = lambda x: x > 20090101  \n",
    "# filter(format,temp2)\n",
    "# for i in dfInfo['TradingUnits']:\n",
    "#     print i"
   ]
  },
  {
   "cell_type": "code",
   "execution_count": 20,
   "metadata": {
    "collapsed": false
   },
   "outputs": [
    {
     "data": {
      "text/plain": [
       "[4500.0, 3600.0, 5400.0, 10800.0, 3600.0]"
      ]
     },
     "execution_count": 20,
     "metadata": {},
     "output_type": "execute_result"
    }
   ],
   "source": [
    "import pandas as pd\n",
    "import datetime as dt\n",
    "rb = pd.read_csv('E:\\\\Github\\\\dbProcess\\\\rbdfdate.csv')\n",
    "str = rb['currPeriod'][0]\n",
    "str = \"\".join(str.split())\n",
    "ls1 = str.split(\",\")\n",
    "ls2 = [i.split(\"-\") for i in ls1]\n",
    "str2dt = lambda x: dt.datetime.strptime(x,\"%H:%M\")\n",
    "ls3 = [map(str2dt,i) for i in ls2]\n",
    "ls4 = [(i[1]-i[0]).total_seconds() for i in ls3]\n",
    "ls5 = [i+86340 if i<0 else i for i in ls4]\n",
    "sum(ls5)*2\n",
    "ls5\n",
    "# now = dt.datetime.now()\n",
    "# hourago = now - datetime.timedelta(hours=0.85)\n",
    "# yesterday = now - datetime.timedelta(days=1)\n",
    "# timespan1 = now - hourago\n",
    "# timespan2 = now - yesterday\n",
    "# timespan2.total_seconds()"
   ]
  },
  {
   "cell_type": "code",
   "execution_count": null,
   "metadata": {
    "collapsed": true
   },
   "outputs": [],
   "source": []
  }
 ],
 "metadata": {
  "anaconda-cloud": {},
  "kernelspec": {
   "display_name": "Python [Root]",
   "language": "python",
   "name": "Python [Root]"
  },
  "language_info": {
   "codemirror_mode": {
    "name": "ipython",
    "version": 2
   },
   "file_extension": ".py",
   "mimetype": "text/x-python",
   "name": "python",
   "nbconvert_exporter": "python",
   "pygments_lexer": "ipython2",
   "version": "2.7.12"
  }
 },
 "nbformat": 4,
 "nbformat_minor": 1
}
